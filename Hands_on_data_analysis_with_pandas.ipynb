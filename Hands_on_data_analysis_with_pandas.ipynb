{
  "nbformat": 4,
  "nbformat_minor": 0,
  "metadata": {
    "colab": {
      "name": "Hands_on_data_analysis_with_pandas.ipynb",
      "provenance": [],
      "authorship_tag": "ABX9TyNdpxyzpTRoENHMueIDsSso",
      "include_colab_link": true
    },
    "kernelspec": {
      "name": "python3",
      "display_name": "Python 3"
    },
    "language_info": {
      "name": "python"
    }
  },
  "cells": [
    {
      "cell_type": "markdown",
      "metadata": {
        "id": "view-in-github",
        "colab_type": "text"
      },
      "source": [
        "<a href=\"https://colab.research.google.com/github/dportillap/github-slideshow/blob/master/Hands_on_data_analysis_with_pandas.ipynb\" target=\"_parent\"><img src=\"https://colab.research.google.com/assets/colab-badge.svg\" alt=\"Open In Colab\"/></a>"
      ]
    },
    {
      "cell_type": "code",
      "metadata": {
        "id": "-kiWHiIk2bFR"
      },
      "source": [
        ""
      ],
      "execution_count": null,
      "outputs": []
    },
    {
      "cell_type": "markdown",
      "metadata": {
        "id": "BU9X1kmU2nch"
      },
      "source": [
        "##Getting started with Pandas\n",
        "\n",
        "####Introdution to Data Analysis\n",
        "\n",
        "Data science has some common workflows that we can follow when we want to conduct an analysis and present the results.\n",
        "\n",
        "The backbone of this process is statistics, which give us ways to describe our data, make predicions, and also draw conclusions about it.\n",
        "\n"
      ]
    }
  ]
}